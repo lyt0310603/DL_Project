{
  "nbformat": 4,
  "nbformat_minor": 0,
  "metadata": {
    "colab": {
      "provenance": [],
      "gpuType": "T4"
    },
    "kernelspec": {
      "name": "python3",
      "display_name": "Python 3"
    },
    "language_info": {
      "name": "python"
    }
  },
  "cells": [
    {
      "cell_type": "code",
      "source": [
        "import json\n",
        "from json import load\n",
        "from pprint import pprint\n",
        "import matplotlib.pyplot as plt\n",
        "import numpy as np\n",
        "from google.colab import files\n",
        "import os\n",
        "import io\n",
        "import zipfile\n",
        "from datetime import datetime\n",
        "import pandas as pd"
      ],
      "metadata": {
        "id": "qZtfbNxW5kfL"
      },
      "execution_count": null,
      "outputs": []
    },
    {
      "cell_type": "code",
      "source": [
        "# 創建數據框\n",
        "def create_df(json_data, model_name):\n",
        "    df = pd.DataFrame(json_data['data'])\n",
        "    df['model'] = model_name\n",
        "    return df\n",
        "\n",
        "# 設置繪圖風格\n",
        "\n",
        "def plot_metrics_comparison(df1, df2, metrics, output_dir='comparison_plots', method_name=\"\"):\n",
        "    \"\"\"\n",
        "    繪製兩個模型的訓練指標對比圖\n",
        "\n",
        "    Parameters:\n",
        "    df1, df2: 兩個模型的數據框\n",
        "    metrics: 要對比的指標列表\n",
        "    output_dir: 輸出目錄名稱\n",
        "    \"\"\"\n",
        "\n",
        "    # 創建圖表\n",
        "    for metric in metrics:\n",
        "        plt.figure(figsize=(12, 6))\n",
        "\n",
        "        # 繪製兩個模型的數據\n",
        "        plt.plot(df1['epoch'], df1[metric], 'o-', label='Original Model', linewidth=2, markersize=4)\n",
        "        plt.plot(df2['epoch'], df2[metric], 'o-', label=f'{method_name} Model', linewidth=2, markersize=4)\n",
        "\n",
        "        plt.title(f'{method_name}_{metric.replace(\"_\", \" \").title()} Comparison', fontsize=14, pad=15)\n",
        "        plt.xlabel('Epoch', fontsize=12)\n",
        "        plt.ylabel(metric.replace(\"_\", \" \").title(), fontsize=12)\n",
        "        plt.grid(True, linestyle='--', alpha=0.7)\n",
        "        plt.legend(fontsize=10)\n",
        "\n",
        "        # 保存圖片\n",
        "        plt.savefig(f'{output_dir}/{method_name}_{metric}_comparison.png', bbox_inches='tight', dpi=300)\n",
        "        plt.close()\n",
        "\n",
        "def create_comparison_plots():\n",
        "    # 讀取原始數據\n",
        "    with open(\"Multi_Cancer_Brain Cancer_data.json\", 'r') as f:\n",
        "      original_data = json.load(f)\n",
        "\n",
        "    with open(\"Dropout_Multi_Cancer_Brain Cancer_data.json\", 'r') as f:\n",
        "      elastic_net_data = json.load(f)\n",
        "\n",
        "    method_name = \"Dropout\"\n",
        "\n",
        "    # 創建數據框\n",
        "    df_original = create_df(original_data, 'Original')\n",
        "    df_elastic = create_df(elastic_net_data, 'Elastic Net')\n",
        "\n",
        "    # 要對比的指標\n",
        "    metrics = ['train_loss', 'valid_loss', 'valid_acc', 'test_acc', 'f1-score']\n",
        "\n",
        "    # 創建輸出目錄\n",
        "    output_dir = 'comparison_plots'  # 這裡應該是目錄名稱，不是 zip 文件名稱\n",
        "    if not os.path.exists(output_dir):\n",
        "        os.makedirs(output_dir)\n",
        "\n",
        "    # 繪製對比圖\n",
        "    plot_metrics_comparison(df_original, df_elastic, metrics, output_dir, method_name)\n",
        "\n",
        "    # 創建 ZIP 文件\n",
        "    zip_filename = 'comparison_plots.zip'\n",
        "    with zipfile.ZipFile(zip_filename, 'w', zipfile.ZIP_DEFLATED) as zip_file:\n",
        "        for metric in metrics:\n",
        "            file_path = f'{output_dir}/{method_name}_{metric}_comparison.png'\n",
        "            zip_file.write(file_path, os.path.basename(file_path))\n",
        "\n",
        "    # 下載 ZIP 文件\n",
        "    files.download(zip_filename)\n",
        "\n",
        "# 執行程式\n",
        "create_comparison_plots()"
      ],
      "metadata": {
        "colab": {
          "base_uri": "https://localhost:8080/",
          "height": 17
        },
        "id": "w0HFVc2qBQn4",
        "outputId": "0733611a-613a-47c9-e596-5f6e2612b27f"
      },
      "execution_count": null,
      "outputs": [
        {
          "output_type": "display_data",
          "data": {
            "text/plain": [
              "<IPython.core.display.Javascript object>"
            ],
            "application/javascript": [
              "\n",
              "    async function download(id, filename, size) {\n",
              "      if (!google.colab.kernel.accessAllowed) {\n",
              "        return;\n",
              "      }\n",
              "      const div = document.createElement('div');\n",
              "      const label = document.createElement('label');\n",
              "      label.textContent = `Downloading \"${filename}\": `;\n",
              "      div.appendChild(label);\n",
              "      const progress = document.createElement('progress');\n",
              "      progress.max = size;\n",
              "      div.appendChild(progress);\n",
              "      document.body.appendChild(div);\n",
              "\n",
              "      const buffers = [];\n",
              "      let downloaded = 0;\n",
              "\n",
              "      const channel = await google.colab.kernel.comms.open(id);\n",
              "      // Send a message to notify the kernel that we're ready.\n",
              "      channel.send({})\n",
              "\n",
              "      for await (const message of channel.messages) {\n",
              "        // Send a message to notify the kernel that we're ready.\n",
              "        channel.send({})\n",
              "        if (message.buffers) {\n",
              "          for (const buffer of message.buffers) {\n",
              "            buffers.push(buffer);\n",
              "            downloaded += buffer.byteLength;\n",
              "            progress.value = downloaded;\n",
              "          }\n",
              "        }\n",
              "      }\n",
              "      const blob = new Blob(buffers, {type: 'application/binary'});\n",
              "      const a = document.createElement('a');\n",
              "      a.href = window.URL.createObjectURL(blob);\n",
              "      a.download = filename;\n",
              "      div.appendChild(a);\n",
              "      a.click();\n",
              "      div.remove();\n",
              "    }\n",
              "  "
            ]
          },
          "metadata": {}
        },
        {
          "output_type": "display_data",
          "data": {
            "text/plain": [
              "<IPython.core.display.Javascript object>"
            ],
            "application/javascript": [
              "download(\"download_0dd04371-bbbd-42c9-8359-8cc9b4f30843\", \"comparison_plots.zip\", 1102061)"
            ]
          },
          "metadata": {}
        }
      ]
    }
  ]
}