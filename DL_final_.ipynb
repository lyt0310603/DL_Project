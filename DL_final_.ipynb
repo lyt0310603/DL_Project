{
  "cells": [
    {
      "cell_type": "markdown",
      "source": [
        "# Import Package"
      ],
      "metadata": {
        "id": "W0cQhBpr64l7"
      }
    },
    {
      "cell_type": "code",
      "execution_count": null,
      "metadata": {
        "colab": {
          "base_uri": "https://localhost:8080/"
        },
        "collapsed": true,
        "id": "5hU7193ugE1e",
        "outputId": "8b21e814-8f7c-4e3b-e4ac-f1352bd3e7ad"
      },
      "outputs": [
        {
          "output_type": "stream",
          "name": "stdout",
          "text": [
            "Requirement already satisfied: kagglehub in /usr/local/lib/python3.10/dist-packages (0.3.6)\n",
            "Requirement already satisfied: packaging in /usr/local/lib/python3.10/dist-packages (from kagglehub) (24.2)\n",
            "Requirement already satisfied: requests in /usr/local/lib/python3.10/dist-packages (from kagglehub) (2.32.3)\n",
            "Requirement already satisfied: tqdm in /usr/local/lib/python3.10/dist-packages (from kagglehub) (4.67.1)\n",
            "Requirement already satisfied: charset-normalizer<4,>=2 in /usr/local/lib/python3.10/dist-packages (from requests->kagglehub) (3.4.0)\n",
            "Requirement already satisfied: idna<4,>=2.5 in /usr/local/lib/python3.10/dist-packages (from requests->kagglehub) (3.10)\n",
            "Requirement already satisfied: urllib3<3,>=1.21.1 in /usr/local/lib/python3.10/dist-packages (from requests->kagglehub) (2.2.3)\n",
            "Requirement already satisfied: certifi>=2017.4.17 in /usr/local/lib/python3.10/dist-packages (from requests->kagglehub) (2024.12.14)\n"
          ]
        }
      ],
      "source": [
        "!pip install --upgrade kagglehub\n",
        "import kagglehub"
      ]
    },
    {
      "cell_type": "code",
      "execution_count": null,
      "metadata": {
        "id": "FSd_-EF4f4sR"
      },
      "outputs": [],
      "source": [
        "multi_cancer_path = kagglehub.dataset_download('obulisainaren/multi-cancer') # Use the instance for downloading the dataset"
      ]
    },
    {
      "cell_type": "code",
      "execution_count": null,
      "metadata": {
        "id": "yZIdTMgch2n9"
      },
      "outputs": [],
      "source": [
        "import numpy as np # linear algebra\n",
        "import pandas as pd # data processing, CSV file I/O (e.g. pd.read_csv)\n",
        "import os\n",
        "import matplotlib.pyplot as plt\n",
        "from torch.utils.data import Dataset, DataLoader\n",
        "from PIL import Image\n",
        "from torchvision import transforms\n",
        "import torch\n",
        "import torch.nn as nn\n",
        "from sklearn.model_selection import train_test_split\n",
        "from tqdm import *\n",
        "import torch.optim as optim\n",
        "from collections import Counter\n",
        "import json\n",
        "from sklearn.metrics import f1_score\n",
        "from google.colab import files\n",
        "from torch.optim.lr_scheduler import CosineAnnealingLR"
      ]
    },
    {
      "cell_type": "markdown",
      "source": [
        "# Load Dataset"
      ],
      "metadata": {
        "id": "SeJvqypM6-SR"
      }
    },
    {
      "cell_type": "code",
      "execution_count": null,
      "metadata": {
        "id": "3MaScHSFh49V"
      },
      "outputs": [],
      "source": [
        "def get_data(path):\n",
        "    classes = []\n",
        "    images = []\n",
        "    labels = []\n",
        "    for p in path:\n",
        "      for root, dirs, files in os.walk(p):\n",
        "          for file in files:\n",
        "              if file.endswith(('.jpg', '.png', '.jpeg')):  # 只處理圖片檔案\n",
        "                  # 取得完整檔案路徑\n",
        "                  file_path = os.path.join(root, file)\n",
        "                  # 取得相對於根目錄的路徑\n",
        "                  rel_path = os.path.relpath(root, p)\n",
        "                  # 取得最後一層資料夾名稱作為標籤\n",
        "                  label = os.path.basename(root)\n",
        "\n",
        "                  if label not in classes:\n",
        "                      classes.append(label)\n",
        "\n",
        "                  images.append(file_path)\n",
        "                  labels.append(classes.index(label))\n",
        "\n",
        "    n_classes = len(set(labels))\n",
        "    labels = torch.nn.functional.one_hot(torch.tensor(labels), num_classes=n_classes)\n",
        "\n",
        "    print(f\"找到 {n_classes} 個類別：\")\n",
        "    for i, class_name in enumerate(classes):\n",
        "        print(f\"類別 {i}: {class_name}\")\n",
        "\n",
        "    train_images, test_images, train_labels, test_labels = train_test_split(\n",
        "        images, labels,\n",
        "        test_size=0.2,\n",
        "        random_state=24,\n",
        "        stratify=labels  # 確保每個類別的比例一致\n",
        "    )\n",
        "\n",
        "    train_labels = torch.tensor(train_labels, dtype=torch.float)\n",
        "    test_labels = torch.tensor(test_labels, dtype=torch.float)\n",
        "\n",
        "    return train_images, test_images, train_labels, test_labels, n_classes, classes"
      ]
    },
    {
      "cell_type": "code",
      "source": [
        "path = []\n",
        "\n",
        "# subset_name 放你要處理的子類別名稱，例如 Brain Cancer 或 Cervical Cancer 等等\n",
        "subset_name = \"Kidney Cancer\"\n",
        "path.append(multi_cancer_path + \"/Multi Cancer/Multi Cancer/\" + subset_name + \"/\")\n",
        "\n",
        "train_images, test_images, train_labels, test_labels, n_classes, classes = get_data(path)\n"
      ],
      "metadata": {
        "id": "d4bk0XmJ7GXn",
        "colab": {
          "base_uri": "https://localhost:8080/"
        },
        "outputId": "81dd0a46-e979-4c1b-d803-b935783ec743"
      },
      "execution_count": null,
      "outputs": [
        {
          "output_type": "stream",
          "name": "stdout",
          "text": [
            "找到 2 個類別：\n",
            "類別 0: kidney_tumor\n",
            "類別 1: kidney_normal\n"
          ]
        },
        {
          "output_type": "stream",
          "name": "stderr",
          "text": [
            "<ipython-input-4-0b0a65a57b0e>:36: UserWarning: To copy construct from a tensor, it is recommended to use sourceTensor.clone().detach() or sourceTensor.clone().detach().requires_grad_(True), rather than torch.tensor(sourceTensor).\n",
            "  train_labels = torch.tensor(train_labels, dtype=torch.float)\n",
            "<ipython-input-4-0b0a65a57b0e>:37: UserWarning: To copy construct from a tensor, it is recommended to use sourceTensor.clone().detach() or sourceTensor.clone().detach().requires_grad_(True), rather than torch.tensor(sourceTensor).\n",
            "  test_labels = torch.tensor(test_labels, dtype=torch.float)\n"
          ]
        }
      ]
    },
    {
      "cell_type": "markdown",
      "source": [
        "# Create DataLoader"
      ],
      "metadata": {
        "id": "7bmLhz9z7aHF"
      }
    },
    {
      "cell_type": "code",
      "execution_count": null,
      "metadata": {
        "id": "6y0ZReskjxL7"
      },
      "outputs": [],
      "source": [
        "class MultiCancerDataset(Dataset):\n",
        "    def __init__(self, images, labels):\n",
        "        self.images = images\n",
        "\n",
        "        self.mean, self.std = self._calculate_mean_std()\n",
        "        self.transform = transforms.Compose([\n",
        "                transforms.Resize((224, 224)),\n",
        "                transforms.ToTensor(),\n",
        "                transforms.Normalize(mean=self.mean,std=self.std)\n",
        "            ])\n",
        "\n",
        "        self.labels = labels\n",
        "        print(\"Dataset build\")\n",
        "\n",
        "    def _calculate_mean_std(self):\n",
        "        means = []\n",
        "        stds = []\n",
        "\n",
        "        # 收集所有圖片的均值和標準差\n",
        "        for img in self.images:\n",
        "            tmp_img = Image.open(img).convert('RGB')\n",
        "            tmp_img = transforms.ToTensor()(tmp_img)  # 轉換為 tensor\n",
        "\n",
        "            # 現在 img 的 shape 是 [3, H, W]\n",
        "            means.append(torch.mean(tmp_img, dim=[1,2]))  # 計算每個 channel 的均值\n",
        "            stds.append(torch.std(tmp_img, dim=[1,2]))    # 計算每個 channel 的標準差\n",
        "\n",
        "        # 得到三個 channel 的統計值\n",
        "        mean = torch.mean(torch.stack(means), dim=0)  # [mean_R, mean_G, mean_B]\n",
        "        std = torch.mean(torch.stack(stds), dim=0)    # [std_R, std_G, std_B]\n",
        "\n",
        "        return mean, std\n",
        "\n",
        "    def __getitem__(self, idx):\n",
        "        # 讀取圖片\n",
        "        image = self.images[idx]\n",
        "        image = Image.open(image).convert('RGB')\n",
        "        image = self.transform(image)\n",
        "\n",
        "        # 取得標籤\n",
        "        label = self.labels[idx]\n",
        "\n",
        "        return image, label\n",
        "\n",
        "    def __len__(self):\n",
        "        return len(self.images)"
      ]
    },
    {
      "cell_type": "code",
      "execution_count": null,
      "metadata": {
        "colab": {
          "base_uri": "https://localhost:8080/"
        },
        "collapsed": true,
        "id": "letD0bCThfng",
        "outputId": "1d26de51-52c0-40eb-fd9a-3801536e2166"
      },
      "outputs": [
        {
          "output_type": "stream",
          "name": "stdout",
          "text": [
            "Dataset build\n",
            "Dataset build\n",
            "Dataset build\n"
          ]
        }
      ],
      "source": [
        "train_dataset = MultiCancerDataset(train_images[:5000], train_labels[:5000])\n",
        "valid_dataset = MultiCancerDataset(train_images[5000:min(7000, len(train_images))], train_labels[5000:min(7000, len(train_images))])\n",
        "test_dataset = MultiCancerDataset(test_images[:2000], test_labels[:2000])"
      ]
    },
    {
      "cell_type": "code",
      "execution_count": null,
      "metadata": {
        "id": "sfXfTnw5j09v"
      },
      "outputs": [],
      "source": [
        "batch_size = 32\n",
        "train_data = DataLoader(train_dataset, batch_size=batch_size, shuffle=True)\n",
        "valid_data = DataLoader(valid_dataset, batch_size=batch_size, shuffle=True)\n",
        "test_data = DataLoader(test_dataset, batch_size=batch_size, shuffle=True)"
      ]
    },
    {
      "cell_type": "markdown",
      "source": [
        "# Varify num of each class in dataset"
      ],
      "metadata": {
        "id": "gcr5pbt27hPq"
      }
    },
    {
      "cell_type": "code",
      "source": [
        "labels = []\n",
        "for _, label in train_data:\n",
        "    for l in label:  # 批次中的每個標籤\n",
        "        label_name = classes[l.argmax().item()]\n",
        "        labels.append(label_name)\n",
        "label_counts = Counter(labels)\n",
        "\n",
        "print(\"在 train_data 中的類別統計：\")\n",
        "print(f\"總類別數: {len(label_counts)}\")\n",
        "print(\"\\n各類別統計:\")\n",
        "for label, count in label_counts.items():\n",
        "   print(f\"類別 {label}: {count} 筆\")"
      ],
      "metadata": {
        "colab": {
          "base_uri": "https://localhost:8080/"
        },
        "id": "SmEcNDaMUR_6",
        "outputId": "87868de0-3191-490a-8e6f-bd6e06f11a57"
      },
      "execution_count": null,
      "outputs": [
        {
          "output_type": "stream",
          "name": "stdout",
          "text": [
            "在 train_data 中的類別統計：\n",
            "總類別數: 2\n",
            "\n",
            "各類別統計:\n",
            "類別 kidney_tumor: 2491 筆\n",
            "類別 kidney_normal: 2509 筆\n"
          ]
        }
      ]
    },
    {
      "cell_type": "code",
      "source": [
        "labels = []\n",
        "for _, label in valid_data:\n",
        "    for l in label:  # 批次中的每個標籤\n",
        "        label_name = classes[l.argmax().item()]\n",
        "        labels.append(label_name)\n",
        "label_counts = Counter(labels)\n",
        "\n",
        "print(\"在 valid_data 中的類別統計：\")\n",
        "print(f\"總類別數: {len(label_counts)}\")\n",
        "print(\"\\n各類別統計:\")\n",
        "for label, count in label_counts.items():\n",
        "   print(f\"類別 {label}: {count} 筆\")"
      ],
      "metadata": {
        "id": "PjoJmJVy3Orh",
        "outputId": "c2ad9fb9-d2a4-4920-e4f8-62352619ee6a",
        "colab": {
          "base_uri": "https://localhost:8080/"
        }
      },
      "execution_count": null,
      "outputs": [
        {
          "output_type": "stream",
          "name": "stdout",
          "text": [
            "在 valid_data 中的類別統計：\n",
            "總類別數: 2\n",
            "\n",
            "各類別統計:\n",
            "類別 kidney_tumor: 1040 筆\n",
            "類別 kidney_normal: 960 筆\n"
          ]
        }
      ]
    },
    {
      "cell_type": "code",
      "source": [
        "labels = []\n",
        "for _, label in test_data:\n",
        "    for l in label:  # 批次中的每個標籤\n",
        "        label_name = classes[l.argmax().item()]\n",
        "        labels.append(label_name)\n",
        "label_counts = Counter(labels)\n",
        "\n",
        "print(\"在 test_data 中的類別統計：\")\n",
        "print(f\"總類別數: {len(label_counts)}\")\n",
        "print(\"\\n各類別統計:\")\n",
        "for label, count in label_counts.items():\n",
        "   print(f\"類別 {label}: {count} 筆\")"
      ],
      "metadata": {
        "colab": {
          "base_uri": "https://localhost:8080/"
        },
        "id": "HvTPm6Hpg_6s",
        "outputId": "10ae6dae-7c3d-4ea2-cfeb-936b4f8bd798"
      },
      "execution_count": null,
      "outputs": [
        {
          "output_type": "stream",
          "name": "stdout",
          "text": [
            "在 test_data 中的類別統計：\n",
            "總類別數: 2\n",
            "\n",
            "各類別統計:\n",
            "類別 kidney_tumor: 1000 筆\n",
            "類別 kidney_normal: 1000 筆\n"
          ]
        }
      ]
    },
    {
      "cell_type": "markdown",
      "source": [
        "# Build Model"
      ],
      "metadata": {
        "id": "0mvbhALF7p2m"
      }
    },
    {
      "cell_type": "code",
      "execution_count": null,
      "metadata": {
        "id": "x7yFQnkLj2tu"
      },
      "outputs": [],
      "source": [
        "class BasicBlock(nn.Module):\n",
        "    def __init__(self, in_channels, out_channels, stride=1):\n",
        "        super(BasicBlock, self).__init__()\n",
        "        self.conv1 = nn.Sequential(\n",
        "            nn.Conv2d(in_channels, out_channels, kernel_size=3, stride=stride, padding=1, bias=False),\n",
        "            nn.BatchNorm2d(out_channels),\n",
        "            nn.LeakyReLU(negative_slope=0.01, inplace=True)\n",
        "        )\n",
        "\n",
        "        self.conv2 = nn.Sequential(\n",
        "            nn.Conv2d(out_channels, out_channels, kernel_size=3, stride=1, padding=1, bias=False),\n",
        "            nn.BatchNorm2d(out_channels)\n",
        "        )\n",
        "\n",
        "        self.shortcut = nn.Sequential()\n",
        "        if stride != 1 or in_channels != out_channels:\n",
        "            self.shortcut = nn.Sequential(\n",
        "                nn.Conv2d(in_channels, out_channels, kernel_size=3, stride=stride, padding=1, bias=False),\n",
        "                nn.BatchNorm2d(out_channels)\n",
        "            )\n",
        "\n",
        "        self.relu = nn.LeakyReLU(negative_slope=0.01, inplace=True)\n",
        "\n",
        "    def forward(self, x):\n",
        "        out = self.conv1(x)\n",
        "        out = self.conv2(out)\n",
        "        out += self.shortcut(x)\n",
        "        out = self.relu(out)\n",
        "        return out"
      ]
    },
    {
      "cell_type": "code",
      "execution_count": null,
      "metadata": {
        "id": "fNY3kTx6j4Bn"
      },
      "outputs": [],
      "source": [
        "def create_model(n_classes):\n",
        "    # model = nn.Sequential(\n",
        "    #     # Head\n",
        "    #     nn.Conv2d(3, 64, kernel_size=3, stride=1, padding=1, bias=False),\n",
        "    #     nn.BatchNorm2d(64),\n",
        "    #     nn.LeakyReLU(negative_slope=0.01, inplace=True),\n",
        "\n",
        "    #     # Backbone-0 (64 -> 64)\n",
        "    #     BasicBlock(64, 64),\n",
        "    #     BasicBlock(64, 64),\n",
        "\n",
        "    #     # Backbone-1 (64 -> 128)\n",
        "    #     BasicBlock(64, 128, stride=2),\n",
        "    #     BasicBlock(128, 128),\n",
        "\n",
        "    #     # Backbone-2 (128 -> 256)\n",
        "    #     BasicBlock(128, 256, stride=2),\n",
        "    #     BasicBlock(256, 256),\n",
        "\n",
        "    #     # Backbone-3 (256 -> 512)\n",
        "    #     BasicBlock(256, 512, stride=2),\n",
        "    #     BasicBlock(512, 512),\n",
        "    #     nn.AdaptiveAvgPool2d((1, 1)),\n",
        "\n",
        "    #     # Predictor\n",
        "    #     nn.Flatten(),\n",
        "    #     nn.Linear(512, n_classes)\n",
        "    # )\n",
        "\n",
        "    # model = nn.Sequential(\n",
        "    #     # Head\n",
        "    #     nn.Conv2d(3, 32, kernel_size=3, stride=1, padding=1, bias=False),  # 降低初始通道數從64到32\n",
        "    #     nn.BatchNorm2d(32),\n",
        "    #     nn.LeakyReLU(negative_slope=0.01, inplace=True),\n",
        "\n",
        "    #     # Backbone-0 (32 -> 64)\n",
        "    #     BasicBlock(32, 64, stride=2),  # 直接在第一個Block進行降採樣\n",
        "\n",
        "    #     # Backbone-1 (64 -> 128)\n",
        "    #     BasicBlock(64, 128, stride=2),\n",
        "\n",
        "    #     # Backbone-2 (128 -> 256)\n",
        "    #     BasicBlock(128, 256, stride=2),\n",
        "    #     BasicBlock(256, 256),  # 保留一個額外的Block在最後階段\n",
        "\n",
        "    #     nn.AdaptiveAvgPool2d((1, 1)),\n",
        "\n",
        "    #     # Predictor\n",
        "    #     nn.Flatten(),\n",
        "    #     nn.Linear(256, n_classes)  # 降低最終特徵維度從512到256\n",
        "    # )\n",
        "\n",
        "    model = nn.Sequential(\n",
        "        # Head\n",
        "        nn.Conv2d(3, 32, kernel_size=3, stride=1, padding=1, bias=False),\n",
        "        nn.BatchNorm2d(32),\n",
        "        nn.LeakyReLU(negative_slope=0.01, inplace=True),\n",
        "        nn.Dropout2d(p=0.1),  # 添加較小的 dropout，避免初始特徵丟失過多\n",
        "\n",
        "        # Backbone-0 (32 -> 64)\n",
        "        BasicBlock(32, 64, stride=2),\n",
        "        nn.Dropout2d(p=0.2),  # 隨著網絡深入，逐漸增加 dropout 率\n",
        "\n",
        "        # Backbone-1 (64 -> 128)\n",
        "        BasicBlock(64, 128, stride=2),\n",
        "        nn.Dropout2d(p=0.25),  # 中間層使用適中的 dropout 率\n",
        "\n",
        "        # Backbone-2 (128 -> 256)\n",
        "        BasicBlock(128, 256, stride=2),\n",
        "        nn.Dropout2d(p=0.3),  # 深層特徵使用較大的 dropout 率\n",
        "        BasicBlock(256, 256),\n",
        "        nn.Dropout2d(p=0.3),  # 最後的特徵層保持相同的 dropout 率\n",
        "\n",
        "        nn.AdaptiveAvgPool2d((1, 1)),\n",
        "\n",
        "        # Predictor\n",
        "        nn.Flatten(),\n",
        "        nn.Dropout(p=0.5),  # 全連接層前使用較大的 dropout\n",
        "        nn.Linear(256, n_classes)\n",
        "    )\n",
        "    return model"
      ]
    },
    {
      "cell_type": "code",
      "execution_count": null,
      "metadata": {
        "colab": {
          "base_uri": "https://localhost:8080/"
        },
        "id": "xvJqUjCXj4it",
        "outputId": "7975dd4b-c810-440a-d840-875dcb1dcf6c"
      },
      "outputs": [
        {
          "output_type": "stream",
          "name": "stdout",
          "text": [
            "2\n"
          ]
        }
      ],
      "source": [
        "print(n_classes)\n",
        "resnet_model = create_model(n_classes)\n",
        "optimizer = optim.Adam(resnet_model.parameters(), lr=0.001)\n",
        "criterion = nn.CrossEntropyLoss()\n",
        "lr_scheduler = CosineAnnealingLR(\n",
        "        optimizer,\n",
        "        T_max=40,\n",
        "        eta_min=1e-6\n",
        "    )"
      ]
    },
    {
      "cell_type": "markdown",
      "source": [
        "# GPU Check"
      ],
      "metadata": {
        "id": "ZqMXk_TV7vTe"
      }
    },
    {
      "cell_type": "code",
      "execution_count": null,
      "metadata": {
        "colab": {
          "base_uri": "https://localhost:8080/"
        },
        "id": "kqoA0Hpej6tG",
        "outputId": "e16ed210-f565-4e1b-d3ae-9ac8baac0e2e"
      },
      "outputs": [
        {
          "output_type": "stream",
          "name": "stdout",
          "text": [
            "有 GPU 可供使用！裝置名稱：Tesla T4\n",
            "可用的 GPU 數量：1\n"
          ]
        }
      ],
      "source": [
        "# 如果沒有 GPU 的話，點選左上執行階段 -> 變更執行階段類型 -> 選擇 T4 GPU\n",
        "if torch.cuda.is_available():\n",
        "    print(f\"有 GPU 可供使用！裝置名稱：{torch.cuda.get_device_name(0)}\")\n",
        "    print(f\"可用的 GPU 數量：{torch.cuda.device_count()}\")\n",
        "else:\n",
        "    print(\"沒有 GPU 可供使用。\")"
      ]
    },
    {
      "cell_type": "code",
      "execution_count": null,
      "metadata": {
        "colab": {
          "base_uri": "https://localhost:8080/"
        },
        "id": "3upUo_FSORAt",
        "outputId": "67366b73-5b55-4bba-f418-8978ae54c4dc",
        "collapsed": true
      },
      "outputs": [
        {
          "output_type": "execute_result",
          "data": {
            "text/plain": [
              "Sequential(\n",
              "  (0): Conv2d(3, 32, kernel_size=(3, 3), stride=(1, 1), padding=(1, 1), bias=False)\n",
              "  (1): BatchNorm2d(32, eps=1e-05, momentum=0.1, affine=True, track_running_stats=True)\n",
              "  (2): LeakyReLU(negative_slope=0.01, inplace=True)\n",
              "  (3): Dropout2d(p=0.1, inplace=False)\n",
              "  (4): BasicBlock(\n",
              "    (conv1): Sequential(\n",
              "      (0): Conv2d(32, 64, kernel_size=(3, 3), stride=(2, 2), padding=(1, 1), bias=False)\n",
              "      (1): BatchNorm2d(64, eps=1e-05, momentum=0.1, affine=True, track_running_stats=True)\n",
              "      (2): LeakyReLU(negative_slope=0.01, inplace=True)\n",
              "    )\n",
              "    (conv2): Sequential(\n",
              "      (0): Conv2d(64, 64, kernel_size=(3, 3), stride=(1, 1), padding=(1, 1), bias=False)\n",
              "      (1): BatchNorm2d(64, eps=1e-05, momentum=0.1, affine=True, track_running_stats=True)\n",
              "    )\n",
              "    (shortcut): Sequential(\n",
              "      (0): Conv2d(32, 64, kernel_size=(3, 3), stride=(2, 2), padding=(1, 1), bias=False)\n",
              "      (1): BatchNorm2d(64, eps=1e-05, momentum=0.1, affine=True, track_running_stats=True)\n",
              "    )\n",
              "    (relu): LeakyReLU(negative_slope=0.01, inplace=True)\n",
              "  )\n",
              "  (5): Dropout2d(p=0.2, inplace=False)\n",
              "  (6): BasicBlock(\n",
              "    (conv1): Sequential(\n",
              "      (0): Conv2d(64, 128, kernel_size=(3, 3), stride=(2, 2), padding=(1, 1), bias=False)\n",
              "      (1): BatchNorm2d(128, eps=1e-05, momentum=0.1, affine=True, track_running_stats=True)\n",
              "      (2): LeakyReLU(negative_slope=0.01, inplace=True)\n",
              "    )\n",
              "    (conv2): Sequential(\n",
              "      (0): Conv2d(128, 128, kernel_size=(3, 3), stride=(1, 1), padding=(1, 1), bias=False)\n",
              "      (1): BatchNorm2d(128, eps=1e-05, momentum=0.1, affine=True, track_running_stats=True)\n",
              "    )\n",
              "    (shortcut): Sequential(\n",
              "      (0): Conv2d(64, 128, kernel_size=(3, 3), stride=(2, 2), padding=(1, 1), bias=False)\n",
              "      (1): BatchNorm2d(128, eps=1e-05, momentum=0.1, affine=True, track_running_stats=True)\n",
              "    )\n",
              "    (relu): LeakyReLU(negative_slope=0.01, inplace=True)\n",
              "  )\n",
              "  (7): Dropout2d(p=0.25, inplace=False)\n",
              "  (8): BasicBlock(\n",
              "    (conv1): Sequential(\n",
              "      (0): Conv2d(128, 256, kernel_size=(3, 3), stride=(2, 2), padding=(1, 1), bias=False)\n",
              "      (1): BatchNorm2d(256, eps=1e-05, momentum=0.1, affine=True, track_running_stats=True)\n",
              "      (2): LeakyReLU(negative_slope=0.01, inplace=True)\n",
              "    )\n",
              "    (conv2): Sequential(\n",
              "      (0): Conv2d(256, 256, kernel_size=(3, 3), stride=(1, 1), padding=(1, 1), bias=False)\n",
              "      (1): BatchNorm2d(256, eps=1e-05, momentum=0.1, affine=True, track_running_stats=True)\n",
              "    )\n",
              "    (shortcut): Sequential(\n",
              "      (0): Conv2d(128, 256, kernel_size=(3, 3), stride=(2, 2), padding=(1, 1), bias=False)\n",
              "      (1): BatchNorm2d(256, eps=1e-05, momentum=0.1, affine=True, track_running_stats=True)\n",
              "    )\n",
              "    (relu): LeakyReLU(negative_slope=0.01, inplace=True)\n",
              "  )\n",
              "  (9): Dropout2d(p=0.3, inplace=False)\n",
              "  (10): BasicBlock(\n",
              "    (conv1): Sequential(\n",
              "      (0): Conv2d(256, 256, kernel_size=(3, 3), stride=(1, 1), padding=(1, 1), bias=False)\n",
              "      (1): BatchNorm2d(256, eps=1e-05, momentum=0.1, affine=True, track_running_stats=True)\n",
              "      (2): LeakyReLU(negative_slope=0.01, inplace=True)\n",
              "    )\n",
              "    (conv2): Sequential(\n",
              "      (0): Conv2d(256, 256, kernel_size=(3, 3), stride=(1, 1), padding=(1, 1), bias=False)\n",
              "      (1): BatchNorm2d(256, eps=1e-05, momentum=0.1, affine=True, track_running_stats=True)\n",
              "    )\n",
              "    (shortcut): Sequential()\n",
              "    (relu): LeakyReLU(negative_slope=0.01, inplace=True)\n",
              "  )\n",
              "  (11): Dropout2d(p=0.3, inplace=False)\n",
              "  (12): AdaptiveAvgPool2d(output_size=(1, 1))\n",
              "  (13): Flatten(start_dim=1, end_dim=-1)\n",
              "  (14): Dropout(p=0.5, inplace=False)\n",
              "  (15): Linear(in_features=256, out_features=2, bias=True)\n",
              ")"
            ]
          },
          "metadata": {},
          "execution_count": 16
        }
      ],
      "source": [
        "resnet_model.to('cuda')"
      ]
    },
    {
      "cell_type": "markdown",
      "source": [
        "# Train and Test"
      ],
      "metadata": {
        "id": "M6d-Hc_Q7yyb"
      }
    },
    {
      "cell_type": "code",
      "source": [
        "def elastic_net_loss(original_loss, model, lambda1=1e-5, lambda2=1e-4):\n",
        "    l1_reg = torch.tensor(0., device='cuda')  # 初始化 L1 正則化\n",
        "    l2_reg = torch.tensor(0., device='cuda')  # 初始化 L2 正則化\n",
        "    for param in model.parameters():\n",
        "        l1_reg += torch.norm(param, 1)  # L1 正則化\n",
        "        l2_reg += torch.norm(param, 2) ** 2  # L2 正則化\n",
        "    return original_loss + lambda1 * l1_reg + lambda2 * l2_reg  # 總損失"
      ],
      "metadata": {
        "id": "BqXWx-N4ILve"
      },
      "execution_count": null,
      "outputs": []
    },
    {
      "cell_type": "code",
      "execution_count": null,
      "metadata": {
        "id": "myFe9OI-j736"
      },
      "outputs": [],
      "source": [
        "def train_step(model, optimizer, lr_scheduler, criterion, train_data, valid_data):\n",
        "\n",
        "    model.train()\n",
        "    train_losses = []\n",
        "    for batch_idx, (images, labels) in enumerate(tqdm(train_data)):\n",
        "        images, labels = images.to('cuda'), labels.to('cuda')\n",
        "        optimizer.zero_grad()\n",
        "        output = model(images)\n",
        "        # loss = criterion(output, labels)\n",
        "\n",
        "        original_loss = criterion(output, labels)\n",
        "        loss = elastic_net_loss(original_loss, model, lambda1=1e-5, lambda2=1e-4)\n",
        "\n",
        "        train_losses.append(loss.item())\n",
        "        loss.backward()\n",
        "        optimizer.step()\n",
        "\n",
        "    # 驗證階段\n",
        "    model.eval()\n",
        "    valid_losses = []\n",
        "    correct = 0\n",
        "    total = 0\n",
        "    # 用於計算 F1 score\n",
        "    all_predictions = []\n",
        "    all_labels = []\n",
        "    with torch.no_grad():\n",
        "        for images, labels in valid_data:\n",
        "            images, labels = images.to('cuda'), labels.to('cuda')\n",
        "            output = model(images)\n",
        "\n",
        "            loss = criterion(output, labels)\n",
        "            valid_losses.append(loss.item())\n",
        "\n",
        "            _, predicted = torch.max(output.data, 1)\n",
        "            total += labels.size(0)\n",
        "            correct += (predicted == torch.argmax(labels, dim=1)).sum().item()\n",
        "\n",
        "            # 收集預測結果和真實標籤用於計算 F1 score\n",
        "            all_predictions.extend(predicted.cpu().numpy())\n",
        "            all_labels.extend(torch.argmax(labels, dim=1).cpu().numpy())\n",
        "\n",
        "    # 使用驗證loss來更新學習率\n",
        "    valid_loss = np.mean(valid_losses)\n",
        "    lr_scheduler.step()\n",
        "\n",
        "    # 計算 F1 score (使用 macro 平均)\n",
        "    f1 = f1_score(all_labels, all_predictions, average='macro')\n",
        "\n",
        "    return (\n",
        "        np.mean(train_losses),\n",
        "        np.mean(valid_losses),\n",
        "        lr_scheduler.get_last_lr()[0],\n",
        "        100 * correct / total,\n",
        "        f1\n",
        "    )"
      ]
    },
    {
      "cell_type": "code",
      "execution_count": null,
      "metadata": {
        "id": "UFGNBHGJj879"
      },
      "outputs": [],
      "source": [
        "def test_step(model, test_data):\n",
        "    correct = 0\n",
        "    total = 0\n",
        "\n",
        "    model.eval()\n",
        "    with torch.no_grad():\n",
        "        for images, labels in test_data:\n",
        "            images, labels = images.to('cuda'), labels.to('cuda')\n",
        "            outputs = model(images)\n",
        "            _, predicted = torch.max(outputs.data, 1)\n",
        "            total += labels.size(0)\n",
        "            correct += (predicted == torch.argmax(labels, dim=1)).sum().item()\n",
        "\n",
        "    return 100 * correct / total"
      ]
    },
    {
      "cell_type": "code",
      "source": [
        "K = 5\n",
        "epoch = 8\n",
        "\n",
        "train_losses = []\n",
        "valid_losses = []\n",
        "lrs = []\n",
        "test_accs = []\n",
        "valid_accs = []\n",
        "f1s = []\n",
        "\n",
        "from sklearn.model_selection import KFold\n",
        "kfold = KFold(n_splits=K)\n",
        "\n",
        "\n",
        "\n",
        "for fold_i, (train_ids, val_ids) in enumerate(kfold.split(train_dataset)):\n",
        "    print(f'train size: {len(train_ids)}, val size: {len(val_ids)}')\n",
        "\n",
        "\n",
        "    # Sample elements from selected ids\n",
        "    train_sampler = torch.utils.data.SubsetRandomSampler(train_ids)\n",
        "    val_sampler = torch.utils.data.SubsetRandomSampler(val_ids)\n",
        "    # Use sampler to select data for training and validation\n",
        "    train_data = torch.utils.data.DataLoader(train_dataset, batch_size=batch_size,\n",
        "                                               sampler=train_sampler)\n",
        "    valid_data = torch.utils.data.DataLoader(train_dataset, batch_size=batch_size,\n",
        "                                             sampler=val_sampler)\n",
        "\n",
        "    # Training\n",
        "    for i in range(1, epoch+1):\n",
        "        train_loss, valid_loss, lr , valid_acc, f1 = train_step(resnet_model, optimizer, lr_scheduler, criterion, train_data, valid_data)\n",
        "        test_acc = test_step(resnet_model, test_data)\n",
        "        train_losses.append(train_loss)\n",
        "        valid_losses.append(valid_loss)\n",
        "        lrs.append(lr)\n",
        "        test_accs.append(test_acc)\n",
        "        valid_accs.append(valid_acc)\n",
        "        f1s.append(f1)\n",
        "        print(f\"epoch: {i}   lr: {lr:.5f}   train loss: {train_loss:.2f}   valid loss: {valid_loss:.2f}   valid acc: {valid_acc:.2f}   f1-score: {f1:.2f}\")\n",
        "        print(f\"\\t test acc: {test_acc:.2f}\")"
      ],
      "metadata": {
        "colab": {
          "base_uri": "https://localhost:8080/"
        },
        "id": "5oiPeJbEHmtS",
        "outputId": "ec31b97f-bc07-44f8-eaea-25118b38dc97"
      },
      "execution_count": null,
      "outputs": [
        {
          "output_type": "stream",
          "name": "stdout",
          "text": [
            "train size: 4000, val size: 1000\n"
          ]
        },
        {
          "output_type": "stream",
          "name": "stderr",
          "text": [
            "100%|██████████| 125/125 [00:30<00:00,  4.08it/s]\n"
          ]
        },
        {
          "output_type": "stream",
          "name": "stdout",
          "text": [
            "epoch: 1   lr: 0.00100   train loss: 1.30   valid loss: 0.49   valid acc: 75.10   f1-score: 0.75\n",
            "\t test acc: 76.95\n"
          ]
        },
        {
          "output_type": "stream",
          "name": "stderr",
          "text": [
            "100%|██████████| 125/125 [00:29<00:00,  4.30it/s]\n"
          ]
        },
        {
          "output_type": "stream",
          "name": "stdout",
          "text": [
            "epoch: 2   lr: 0.00099   train loss: 1.08   valid loss: 0.41   valid acc: 81.50   f1-score: 0.81\n",
            "\t test acc: 81.80\n"
          ]
        },
        {
          "output_type": "stream",
          "name": "stderr",
          "text": [
            "100%|██████████| 125/125 [00:28<00:00,  4.32it/s]\n"
          ]
        },
        {
          "output_type": "stream",
          "name": "stdout",
          "text": [
            "epoch: 3   lr: 0.00099   train loss: 0.96   valid loss: 0.38   valid acc: 84.80   f1-score: 0.84\n",
            "\t test acc: 83.65\n"
          ]
        },
        {
          "output_type": "stream",
          "name": "stderr",
          "text": [
            "100%|██████████| 125/125 [00:29<00:00,  4.27it/s]\n"
          ]
        },
        {
          "output_type": "stream",
          "name": "stdout",
          "text": [
            "epoch: 4   lr: 0.00098   train loss: 0.85   valid loss: 0.31   valid acc: 86.00   f1-score: 0.86\n",
            "\t test acc: 85.10\n"
          ]
        },
        {
          "output_type": "stream",
          "name": "stderr",
          "text": [
            "100%|██████████| 125/125 [00:29<00:00,  4.27it/s]\n"
          ]
        },
        {
          "output_type": "stream",
          "name": "stdout",
          "text": [
            "epoch: 5   lr: 0.00096   train loss: 0.77   valid loss: 0.29   valid acc: 89.20   f1-score: 0.89\n",
            "\t test acc: 89.15\n"
          ]
        },
        {
          "output_type": "stream",
          "name": "stderr",
          "text": [
            "100%|██████████| 125/125 [00:30<00:00,  4.16it/s]\n"
          ]
        },
        {
          "output_type": "stream",
          "name": "stdout",
          "text": [
            "epoch: 6   lr: 0.00095   train loss: 0.73   valid loss: 0.30   valid acc: 89.00   f1-score: 0.89\n",
            "\t test acc: 88.80\n"
          ]
        },
        {
          "output_type": "stream",
          "name": "stderr",
          "text": [
            "100%|██████████| 125/125 [00:30<00:00,  4.06it/s]\n"
          ]
        },
        {
          "output_type": "stream",
          "name": "stdout",
          "text": [
            "epoch: 7   lr: 0.00093   train loss: 0.70   valid loss: 0.30   valid acc: 87.80   f1-score: 0.88\n",
            "\t test acc: 88.55\n"
          ]
        },
        {
          "output_type": "stream",
          "name": "stderr",
          "text": [
            "100%|██████████| 125/125 [00:30<00:00,  4.08it/s]\n"
          ]
        },
        {
          "output_type": "stream",
          "name": "stdout",
          "text": [
            "epoch: 8   lr: 0.00090   train loss: 0.63   valid loss: 0.26   valid acc: 91.50   f1-score: 0.91\n",
            "\t test acc: 92.60\n",
            "train size: 4000, val size: 1000\n"
          ]
        },
        {
          "output_type": "stream",
          "name": "stderr",
          "text": [
            "100%|██████████| 125/125 [00:30<00:00,  4.11it/s]\n"
          ]
        },
        {
          "output_type": "stream",
          "name": "stdout",
          "text": [
            "epoch: 1   lr: 0.00088   train loss: 0.61   valid loss: 0.24   valid acc: 91.80   f1-score: 0.92\n",
            "\t test acc: 93.30\n"
          ]
        },
        {
          "output_type": "stream",
          "name": "stderr",
          "text": [
            "100%|██████████| 125/125 [00:30<00:00,  4.14it/s]\n"
          ]
        },
        {
          "output_type": "stream",
          "name": "stdout",
          "text": [
            "epoch: 2   lr: 0.00085   train loss: 0.58   valid loss: 0.32   valid acc: 83.40   f1-score: 0.83\n",
            "\t test acc: 84.50\n"
          ]
        },
        {
          "output_type": "stream",
          "name": "stderr",
          "text": [
            "100%|██████████| 125/125 [00:30<00:00,  4.15it/s]\n"
          ]
        },
        {
          "output_type": "stream",
          "name": "stdout",
          "text": [
            "epoch: 3   lr: 0.00082   train loss: 0.54   valid loss: 0.24   valid acc: 90.10   f1-score: 0.90\n",
            "\t test acc: 91.75\n"
          ]
        },
        {
          "output_type": "stream",
          "name": "stderr",
          "text": [
            "100%|██████████| 125/125 [00:30<00:00,  4.15it/s]\n"
          ]
        },
        {
          "output_type": "stream",
          "name": "stdout",
          "text": [
            "epoch: 4   lr: 0.00079   train loss: 0.54   valid loss: 0.22   valid acc: 90.50   f1-score: 0.90\n",
            "\t test acc: 92.10\n"
          ]
        },
        {
          "output_type": "stream",
          "name": "stderr",
          "text": [
            "100%|██████████| 125/125 [00:30<00:00,  4.16it/s]\n"
          ]
        },
        {
          "output_type": "stream",
          "name": "stdout",
          "text": [
            "epoch: 5   lr: 0.00076   train loss: 0.51   valid loss: 0.17   valid acc: 94.00   f1-score: 0.94\n",
            "\t test acc: 94.70\n"
          ]
        },
        {
          "output_type": "stream",
          "name": "stderr",
          "text": [
            "100%|██████████| 125/125 [00:30<00:00,  4.13it/s]\n"
          ]
        },
        {
          "output_type": "stream",
          "name": "stdout",
          "text": [
            "epoch: 6   lr: 0.00073   train loss: 0.48   valid loss: 0.19   valid acc: 92.30   f1-score: 0.92\n",
            "\t test acc: 93.90\n"
          ]
        },
        {
          "output_type": "stream",
          "name": "stderr",
          "text": [
            "100%|██████████| 125/125 [00:30<00:00,  4.12it/s]\n"
          ]
        },
        {
          "output_type": "stream",
          "name": "stdout",
          "text": [
            "epoch: 7   lr: 0.00069   train loss: 0.49   valid loss: 0.18   valid acc: 94.80   f1-score: 0.95\n",
            "\t test acc: 96.10\n"
          ]
        },
        {
          "output_type": "stream",
          "name": "stderr",
          "text": [
            "100%|██████████| 125/125 [00:30<00:00,  4.15it/s]\n"
          ]
        },
        {
          "output_type": "stream",
          "name": "stdout",
          "text": [
            "epoch: 8   lr: 0.00065   train loss: 0.44   valid loss: 0.14   valid acc: 96.50   f1-score: 0.96\n",
            "\t test acc: 96.80\n",
            "train size: 4000, val size: 1000\n"
          ]
        },
        {
          "output_type": "stream",
          "name": "stderr",
          "text": [
            "100%|██████████| 125/125 [00:30<00:00,  4.14it/s]\n"
          ]
        },
        {
          "output_type": "stream",
          "name": "stdout",
          "text": [
            "epoch: 1   lr: 0.00062   train loss: 0.45   valid loss: 0.14   valid acc: 96.00   f1-score: 0.96\n",
            "\t test acc: 95.75\n"
          ]
        },
        {
          "output_type": "stream",
          "name": "stderr",
          "text": [
            "100%|██████████| 125/125 [00:29<00:00,  4.17it/s]\n"
          ]
        },
        {
          "output_type": "stream",
          "name": "stdout",
          "text": [
            "epoch: 2   lr: 0.00058   train loss: 0.41   valid loss: 0.12   valid acc: 96.30   f1-score: 0.96\n",
            "\t test acc: 96.80\n"
          ]
        },
        {
          "output_type": "stream",
          "name": "stderr",
          "text": [
            "100%|██████████| 125/125 [00:30<00:00,  4.15it/s]\n"
          ]
        },
        {
          "output_type": "stream",
          "name": "stdout",
          "text": [
            "epoch: 3   lr: 0.00054   train loss: 0.42   valid loss: 0.13   valid acc: 95.30   f1-score: 0.95\n",
            "\t test acc: 95.50\n"
          ]
        },
        {
          "output_type": "stream",
          "name": "stderr",
          "text": [
            "100%|██████████| 125/125 [00:30<00:00,  4.12it/s]\n"
          ]
        },
        {
          "output_type": "stream",
          "name": "stdout",
          "text": [
            "epoch: 4   lr: 0.00050   train loss: 0.39   valid loss: 0.11   valid acc: 95.90   f1-score: 0.96\n",
            "\t test acc: 96.90\n"
          ]
        },
        {
          "output_type": "stream",
          "name": "stderr",
          "text": [
            "100%|██████████| 125/125 [00:30<00:00,  4.06it/s]\n"
          ]
        },
        {
          "output_type": "stream",
          "name": "stdout",
          "text": [
            "epoch: 5   lr: 0.00046   train loss: 0.38   valid loss: 0.11   valid acc: 97.10   f1-score: 0.97\n",
            "\t test acc: 97.25\n"
          ]
        },
        {
          "output_type": "stream",
          "name": "stderr",
          "text": [
            "100%|██████████| 125/125 [00:30<00:00,  4.05it/s]\n"
          ]
        },
        {
          "output_type": "stream",
          "name": "stdout",
          "text": [
            "epoch: 6   lr: 0.00042   train loss: 0.36   valid loss: 0.12   valid acc: 96.40   f1-score: 0.96\n",
            "\t test acc: 96.10\n"
          ]
        },
        {
          "output_type": "stream",
          "name": "stderr",
          "text": [
            "100%|██████████| 125/125 [00:30<00:00,  4.07it/s]\n"
          ]
        },
        {
          "output_type": "stream",
          "name": "stdout",
          "text": [
            "epoch: 7   lr: 0.00038   train loss: 0.34   valid loss: 0.09   valid acc: 97.00   f1-score: 0.97\n",
            "\t test acc: 97.60\n"
          ]
        },
        {
          "output_type": "stream",
          "name": "stderr",
          "text": [
            "100%|██████████| 125/125 [00:30<00:00,  4.12it/s]\n"
          ]
        },
        {
          "output_type": "stream",
          "name": "stdout",
          "text": [
            "epoch: 8   lr: 0.00035   train loss: 0.35   valid loss: 0.08   valid acc: 97.80   f1-score: 0.98\n",
            "\t test acc: 98.10\n",
            "train size: 4000, val size: 1000\n"
          ]
        },
        {
          "output_type": "stream",
          "name": "stderr",
          "text": [
            "100%|██████████| 125/125 [00:30<00:00,  4.16it/s]\n"
          ]
        },
        {
          "output_type": "stream",
          "name": "stdout",
          "text": [
            "epoch: 1   lr: 0.00031   train loss: 0.31   valid loss: 0.06   valid acc: 97.80   f1-score: 0.98\n",
            "\t test acc: 98.05\n"
          ]
        },
        {
          "output_type": "stream",
          "name": "stderr",
          "text": [
            "100%|██████████| 125/125 [00:30<00:00,  4.14it/s]\n"
          ]
        },
        {
          "output_type": "stream",
          "name": "stdout",
          "text": [
            "epoch: 2   lr: 0.00027   train loss: 0.30   valid loss: 0.05   valid acc: 98.20   f1-score: 0.98\n",
            "\t test acc: 98.35\n"
          ]
        },
        {
          "output_type": "stream",
          "name": "stderr",
          "text": [
            "100%|██████████| 125/125 [00:30<00:00,  4.16it/s]\n"
          ]
        },
        {
          "output_type": "stream",
          "name": "stdout",
          "text": [
            "epoch: 3   lr: 0.00024   train loss: 0.28   valid loss: 0.04   valid acc: 98.60   f1-score: 0.99\n",
            "\t test acc: 98.90\n"
          ]
        },
        {
          "output_type": "stream",
          "name": "stderr",
          "text": [
            "100%|██████████| 125/125 [00:30<00:00,  4.14it/s]\n"
          ]
        },
        {
          "output_type": "stream",
          "name": "stdout",
          "text": [
            "epoch: 4   lr: 0.00021   train loss: 0.28   valid loss: 0.04   valid acc: 98.80   f1-score: 0.99\n",
            "\t test acc: 99.30\n"
          ]
        },
        {
          "output_type": "stream",
          "name": "stderr",
          "text": [
            "100%|██████████| 125/125 [00:30<00:00,  4.15it/s]\n"
          ]
        },
        {
          "output_type": "stream",
          "name": "stdout",
          "text": [
            "epoch: 5   lr: 0.00018   train loss: 0.26   valid loss: 0.02   valid acc: 99.90   f1-score: 1.00\n",
            "\t test acc: 99.80\n"
          ]
        },
        {
          "output_type": "stream",
          "name": "stderr",
          "text": [
            "100%|██████████| 125/125 [00:30<00:00,  4.14it/s]\n"
          ]
        },
        {
          "output_type": "stream",
          "name": "stdout",
          "text": [
            "epoch: 6   lr: 0.00015   train loss: 0.24   valid loss: 0.02   valid acc: 99.50   f1-score: 0.99\n",
            "\t test acc: 99.65\n"
          ]
        },
        {
          "output_type": "stream",
          "name": "stderr",
          "text": [
            "100%|██████████| 125/125 [00:30<00:00,  4.12it/s]\n"
          ]
        },
        {
          "output_type": "stream",
          "name": "stdout",
          "text": [
            "epoch: 7   lr: 0.00012   train loss: 0.23   valid loss: 0.02   valid acc: 99.60   f1-score: 1.00\n",
            "\t test acc: 99.65\n"
          ]
        },
        {
          "output_type": "stream",
          "name": "stderr",
          "text": [
            "100%|██████████| 125/125 [00:30<00:00,  4.14it/s]\n"
          ]
        },
        {
          "output_type": "stream",
          "name": "stdout",
          "text": [
            "epoch: 8   lr: 0.00010   train loss: 0.22   valid loss: 0.01   valid acc: 99.80   f1-score: 1.00\n",
            "\t test acc: 99.70\n",
            "train size: 4000, val size: 1000\n"
          ]
        },
        {
          "output_type": "stream",
          "name": "stderr",
          "text": [
            "100%|██████████| 125/125 [00:30<00:00,  4.12it/s]\n"
          ]
        },
        {
          "output_type": "stream",
          "name": "stdout",
          "text": [
            "epoch: 1   lr: 0.00007   train loss: 0.22   valid loss: 0.01   valid acc: 100.00   f1-score: 1.00\n",
            "\t test acc: 99.90\n"
          ]
        },
        {
          "output_type": "stream",
          "name": "stderr",
          "text": [
            "100%|██████████| 125/125 [00:30<00:00,  4.09it/s]\n"
          ]
        },
        {
          "output_type": "stream",
          "name": "stdout",
          "text": [
            "epoch: 2   lr: 0.00006   train loss: 0.21   valid loss: 0.01   valid acc: 100.00   f1-score: 1.00\n",
            "\t test acc: 99.90\n"
          ]
        },
        {
          "output_type": "stream",
          "name": "stderr",
          "text": [
            "100%|██████████| 125/125 [00:30<00:00,  4.10it/s]\n"
          ]
        },
        {
          "output_type": "stream",
          "name": "stdout",
          "text": [
            "epoch: 3   lr: 0.00004   train loss: 0.20   valid loss: 0.01   valid acc: 100.00   f1-score: 1.00\n",
            "\t test acc: 99.95\n"
          ]
        },
        {
          "output_type": "stream",
          "name": "stderr",
          "text": [
            "100%|██████████| 125/125 [00:30<00:00,  4.08it/s]\n"
          ]
        },
        {
          "output_type": "stream",
          "name": "stdout",
          "text": [
            "epoch: 4   lr: 0.00003   train loss: 0.20   valid loss: 0.01   valid acc: 100.00   f1-score: 1.00\n",
            "\t test acc: 99.90\n"
          ]
        },
        {
          "output_type": "stream",
          "name": "stderr",
          "text": [
            "100%|██████████| 125/125 [00:30<00:00,  4.07it/s]\n"
          ]
        },
        {
          "output_type": "stream",
          "name": "stdout",
          "text": [
            "epoch: 5   lr: 0.00001   train loss: 0.19   valid loss: 0.00   valid acc: 100.00   f1-score: 1.00\n",
            "\t test acc: 99.95\n"
          ]
        },
        {
          "output_type": "stream",
          "name": "stderr",
          "text": [
            "100%|██████████| 125/125 [00:30<00:00,  4.08it/s]\n"
          ]
        },
        {
          "output_type": "stream",
          "name": "stdout",
          "text": [
            "epoch: 6   lr: 0.00001   train loss: 0.20   valid loss: 0.00   valid acc: 100.00   f1-score: 1.00\n",
            "\t test acc: 99.90\n"
          ]
        },
        {
          "output_type": "stream",
          "name": "stderr",
          "text": [
            "100%|██████████| 125/125 [00:30<00:00,  4.07it/s]\n"
          ]
        },
        {
          "output_type": "stream",
          "name": "stdout",
          "text": [
            "epoch: 7   lr: 0.00000   train loss: 0.20   valid loss: 0.00   valid acc: 100.00   f1-score: 1.00\n",
            "\t test acc: 99.85\n"
          ]
        },
        {
          "output_type": "stream",
          "name": "stderr",
          "text": [
            "100%|██████████| 125/125 [00:30<00:00,  4.12it/s]\n"
          ]
        },
        {
          "output_type": "stream",
          "name": "stdout",
          "text": [
            "epoch: 8   lr: 0.00000   train loss: 0.19   valid loss: 0.00   valid acc: 100.00   f1-score: 1.00\n",
            "\t test acc: 99.90\n"
          ]
        }
      ]
    },
    {
      "cell_type": "code",
      "execution_count": null,
      "metadata": {
        "id": "a0Y-ADVXj-FY"
      },
      "outputs": [],
      "source": [
        "# epoch = 40\n",
        "\n",
        "# train_losses = []\n",
        "# valid_losses = []\n",
        "# lrs = []\n",
        "# test_accs = []\n",
        "# valid_accs = []\n",
        "# f1s = []\n",
        "# for i in range(1, epoch+1):\n",
        "#     train_loss, valid_loss, lr , valid_acc, f1 = train_step(resnet_model, optimizer, lr_scheduler, criterion, train_data, valid_data)\n",
        "#     test_acc = test_step(resnet_model, test_data)\n",
        "#     train_losses.append(train_loss)\n",
        "#     valid_losses.append(valid_loss)\n",
        "#     lrs.append(lr)\n",
        "#     test_accs.append(test_acc)\n",
        "#     valid_accs.append(valid_acc)\n",
        "#     f1s.append(f1)\n",
        "#     print(f\"epoch: {i}   lr: {lr:.5f}   train loss: {train_loss:.2f}   valid loss: {valid_loss:.2f}   valid acc: {valid_acc:.2f}   f1-score: {f1:.2f}\")\n",
        "#     print(f\"\\t test acc: {test_acc:.2f}\")"
      ]
    },
    {
      "cell_type": "markdown",
      "source": [
        "# Plot and Save"
      ],
      "metadata": {
        "id": "sV5VrRLQ71qf"
      }
    },
    {
      "cell_type": "code",
      "source": [
        "def plot_save(train_losses, valid_losses, valid_accs, test_accs, lrs, title, f1s):\n",
        "    # 為每個指標創建獨立的圖表\n",
        "    metrics = {\n",
        "        'train_loss': train_losses,\n",
        "        'valid_loss': valid_losses,\n",
        "        'valid_acc': valid_accs,\n",
        "        'test_acc': test_accs,\n",
        "        'learning_rate': lrs,\n",
        "        'f1-score': f1s\n",
        "    }\n",
        "\n",
        "    for metric_name, metric_data in metrics.items():\n",
        "        # 創建圖表\n",
        "        plt.figure(figsize=(10, 6))\n",
        "        epochs = np.arange(len(metric_data))\n",
        "\n",
        "        # 繪製散點圖\n",
        "        plt.scatter(epochs, metric_data, alpha=0.5)\n",
        "        plt.plot(epochs, metric_data, alpha=0.3)  # 添加連線以更清楚顯示趨勢\n",
        "\n",
        "        # 設置標籤\n",
        "        plt.xlabel('Epoch')\n",
        "        plt.ylabel(metric_name.replace('_', ' ').title())\n",
        "        plt.title(f'{title}_{metric_name}')\n",
        "\n",
        "        # 添加網格使圖表更容易讀取\n",
        "        plt.grid(True, alpha=0.3)\n",
        "\n",
        "        # 調整布局\n",
        "        plt.tight_layout()\n",
        "\n",
        "        # 儲存圖片\n",
        "        plot_filename = f'{title}_{metric_name}.png'\n",
        "        plt.savefig(plot_filename, dpi=300, bbox_inches='tight')\n",
        "        plt.close()\n",
        "        # 下載檔案\n",
        "        files.download(plot_filename)\n",
        "        # 顯示圖片\n",
        "        plt.figure(figsize=(10, 6))\n",
        "        plt.imshow(plt.imread(plot_filename))\n",
        "        plt.axis('off')\n",
        "        plt.show()\n",
        "\n",
        "    # 創建該指標的JSON數據\n",
        "    data = {\n",
        "        'data': [\n",
        "            {\n",
        "                'epoch': int(i),\n",
        "                'train_loss': float(train_losses[i]),\n",
        "                'valid_loss': float(valid_losses[i]),\n",
        "                'valid_acc': float(valid_accs[i]),\n",
        "                'test_acc': float(test_accs[i]),\n",
        "                'learning_rate': float(lrs[i]),\n",
        "                'f1-score': float(f1s[i])\n",
        "            }\n",
        "            for i in range(len(train_losses))\n",
        "        ]\n",
        "    }\n",
        "\n",
        "\n",
        "    # 儲存JSON檔案\n",
        "    json_filename = f'{title}_data.json'\n",
        "    with open(json_filename, 'w') as f:\n",
        "        json.dump(data, f, indent=2)\n",
        "\n",
        "\n",
        "    files.download(json_filename)\n",
        "\n"
      ],
      "metadata": {
        "id": "Pq7H3bL7tHoj"
      },
      "execution_count": null,
      "outputs": []
    },
    {
      "cell_type": "code",
      "source": [
        "title = \"Mix_Multi_Cancer_\"\n",
        "title = title + subset_name\n",
        "plot_save(train_losses, valid_losses, valid_accs, test_accs, lrs, title, f1s)"
      ],
      "metadata": {
        "id": "TNsgJt0yu1Rg",
        "colab": {
          "base_uri": "https://localhost:8080/",
          "height": 1000
        },
        "outputId": "530fa4e1-4524-48bf-e937-d2f72141f175"
      },
      "execution_count": null,
      "outputs": [
        {
          "output_type": "display_data",
          "data": {
            "text/plain": [
              "<IPython.core.display.Javascript object>"
            ],
            "application/javascript": [
              "\n",
              "    async function download(id, filename, size) {\n",
              "      if (!google.colab.kernel.accessAllowed) {\n",
              "        return;\n",
              "      }\n",
              "      const div = document.createElement('div');\n",
              "      const label = document.createElement('label');\n",
              "      label.textContent = `Downloading \"${filename}\": `;\n",
              "      div.appendChild(label);\n",
              "      const progress = document.createElement('progress');\n",
              "      progress.max = size;\n",
              "      div.appendChild(progress);\n",
              "      document.body.appendChild(div);\n",
              "\n",
              "      const buffers = [];\n",
              "      let downloaded = 0;\n",
              "\n",
              "      const channel = await google.colab.kernel.comms.open(id);\n",
              "      // Send a message to notify the kernel that we're ready.\n",
              "      channel.send({})\n",
              "\n",
              "      for await (const message of channel.messages) {\n",
              "        // Send a message to notify the kernel that we're ready.\n",
              "        channel.send({})\n",
              "        if (message.buffers) {\n",
              "          for (const buffer of message.buffers) {\n",
              "            buffers.push(buffer);\n",
              "            downloaded += buffer.byteLength;\n",
              "            progress.value = downloaded;\n",
              "          }\n",
              "        }\n",
              "      }\n",
              "      const blob = new Blob(buffers, {type: 'application/binary'});\n",
              "      const a = document.createElement('a');\n",
              "      a.href = window.URL.createObjectURL(blob);\n",
              "      a.download = filename;\n",
              "      div.appendChild(a);\n",
              "      a.click();\n",
              "      div.remove();\n",
              "    }\n",
              "  "
            ]
          },
          "metadata": {}
        },
        {
          "output_type": "display_data",
          "data": {
            "text/plain": [
              "<IPython.core.display.Javascript object>"
            ],
            "application/javascript": [
              "download(\"download_1cd44e78-a0f3-4a4f-902d-c0b51a3f27d8\", \"Mix_Multi_Cancer_Kidney Cancer_train_loss.png\", 168820)"
            ]
          },
          "metadata": {}
        },
        {
          "output_type": "display_data",
          "data": {
            "text/plain": [
              "<Figure size 1000x600 with 1 Axes>"
            ],
            "image/png": "[encoded data removed]"
          },
          "metadata": {}
        },
        {
          "output_type": "display_data",
          "data": {
            "text/plain": [
              "<IPython.core.display.Javascript object>"
            ],
            "application/javascript": [
              "\n",
              "    async function download(id, filename, size) {\n",
              "      if (!google.colab.kernel.accessAllowed) {\n",
              "        return;\n",
              "      }\n",
              "      const div = document.createElement('div');\n",
              "      const label = document.createElement('label');\n",
              "      label.textContent = `Downloading \"${filename}\": `;\n",
              "      div.appendChild(label);\n",
              "      const progress = document.createElement('progress');\n",
              "      progress.max = size;\n",
              "      div.appendChild(progress);\n",
              "      document.body.appendChild(div);\n",
              "\n",
              "      const buffers = [];\n",
              "      let downloaded = 0;\n",
              "\n",
              "      const channel = await google.colab.kernel.comms.open(id);\n",
              "      // Send a message to notify the kernel that we're ready.\n",
              "      channel.send({})\n",
              "\n",
              "      for await (const message of channel.messages) {\n",
              "        // Send a message to notify the kernel that we're ready.\n",
              "        channel.send({})\n",
              "        if (message.buffers) {\n",
              "          for (const buffer of message.buffers) {\n",
              "            buffers.push(buffer);\n",
              "            downloaded += buffer.byteLength;\n",
              "            progress.value = downloaded;\n",
              "          }\n",
              "        }\n",
              "      }\n",
              "      const blob = new Blob(buffers, {type: 'application/binary'});\n",
              "      const a = document.createElement('a');\n",
              "      a.href = window.URL.createObjectURL(blob);\n",
              "      a.download = filename;\n",
              "      div.appendChild(a);\n",
              "      a.click();\n",
              "      div.remove();\n",
              "    }\n",
              "  "
            ]
          },
          "metadata": {}
        },
        {
          "output_type": "display_data",
          "data": {
            "text/plain": [
              "<IPython.core.display.Javascript object>"
            ],
            "application/javascript": [
              "download(\"download_18c2392e-ed3d-4486-85f1-1ae7f39603b3\", \"Mix_Multi_Cancer_Kidney Cancer_valid_loss.png\", 174693)"
            ]
          },
          "metadata": {}
        },
        {
          "output_type": "display_data",
          "data": {
            "text/plain": [
              "<Figure size 1000x600 with 1 Axes>"
            ],
            "image/png": "[encoded data removed]"
          },
          "metadata": {}
        },
        {
          "output_type": "display_data",
          "data": {
            "text/plain": [
              "<IPython.core.display.Javascript object>"
            ],
            "application/javascript": [
              "\n",
              "    async function download(id, filename, size) {\n",
              "      if (!google.colab.kernel.accessAllowed) {\n",
              "        return;\n",
              "      }\n",
              "      const div = document.createElement('div');\n",
              "      const label = document.createElement('label');\n",
              "      label.textContent = `Downloading \"${filename}\": `;\n",
              "      div.appendChild(label);\n",
              "      const progress = document.createElement('progress');\n",
              "      progress.max = size;\n",
              "      div.appendChild(progress);\n",
              "      document.body.appendChild(div);\n",
              "\n",
              "      const buffers = [];\n",
              "      let downloaded = 0;\n",
              "\n",
              "      const channel = await google.colab.kernel.comms.open(id);\n",
              "      // Send a message to notify the kernel that we're ready.\n",
              "      channel.send({})\n",
              "\n",
              "      for await (const message of channel.messages) {\n",
              "        // Send a message to notify the kernel that we're ready.\n",
              "        channel.send({})\n",
              "        if (message.buffers) {\n",
              "          for (const buffer of message.buffers) {\n",
              "            buffers.push(buffer);\n",
              "            downloaded += buffer.byteLength;\n",
              "            progress.value = downloaded;\n",
              "          }\n",
              "        }\n",
              "      }\n",
              "      const blob = new Blob(buffers, {type: 'application/binary'});\n",
              "      const a = document.createElement('a');\n",
              "      a.href = window.URL.createObjectURL(blob);\n",
              "      a.download = filename;\n",
              "      div.appendChild(a);\n",
              "      a.click();\n",
              "      div.remove();\n",
              "    }\n",
              "  "
            ]
          },
          "metadata": {}
        },
        {
          "output_type": "display_data",
          "data": {
            "text/plain": [
              "<IPython.core.display.Javascript object>"
            ],
            "application/javascript": [
              "download(\"download_bbb0a7cd-8f99-49ed-b73e-5d8bc45fe884\", \"Mix_Multi_Cancer_Kidney Cancer_valid_acc.png\", 171798)"
            ]
          },
          "metadata": {}
        },
        {
          "output_type": "display_data",
          "data": {
            "text/plain": [
              "<Figure size 1000x600 with 1 Axes>"
            ],
            "image/png": "[encoded data removed]"
          },
          "metadata": {}
        },
        {
          "output_type": "display_data",
          "data": {
            "text/plain": [
              "<IPython.core.display.Javascript object>"
            ],
            "application/javascript": [
              "\n",
              "    async function download(id, filename, size) {\n",
              "      if (!google.colab.kernel.accessAllowed) {\n",
              "        return;\n",
              "      }\n",
              "      const div = document.createElement('div');\n",
              "      const label = document.createElement('label');\n",
              "      label.textContent = `Downloading \"${filename}\": `;\n",
              "      div.appendChild(label);\n",
              "      const progress = document.createElement('progress');\n",
              "      progress.max = size;\n",
              "      div.appendChild(progress);\n",
              "      document.body.appendChild(div);\n",
              "\n",
              "      const buffers = [];\n",
              "      let downloaded = 0;\n",
              "\n",
              "      const channel = await google.colab.kernel.comms.open(id);\n",
              "      // Send a message to notify the kernel that we're ready.\n",
              "      channel.send({})\n",
              "\n",
              "      for await (const message of channel.messages) {\n",
              "        // Send a message to notify the kernel that we're ready.\n",
              "        channel.send({})\n",
              "        if (message.buffers) {\n",
              "          for (const buffer of message.buffers) {\n",
              "            buffers.push(buffer);\n",
              "            downloaded += buffer.byteLength;\n",
              "            progress.value = downloaded;\n",
              "          }\n",
              "        }\n",
              "      }\n",
              "      const blob = new Blob(buffers, {type: 'application/binary'});\n",
              "      const a = document.createElement('a');\n",
              "      a.href = window.URL.createObjectURL(blob);\n",
              "      a.download = filename;\n",
              "      div.appendChild(a);\n",
              "      a.click();\n",
              "      div.remove();\n",
              "    }\n",
              "  "
            ]
          },
          "metadata": {}
        },
        {
          "output_type": "display_data",
          "data": {
            "text/plain": [
              "<IPython.core.display.Javascript object>"
            ],
            "application/javascript": [
              "download(\"download_7765c12e-05dc-4a96-a5cb-5a10a8479aaf\", \"Mix_Multi_Cancer_Kidney Cancer_test_acc.png\", 171390)"
            ]
          },
          "metadata": {}
        },
        {
          "output_type": "display_data",
          "data": {
            "text/plain": [
              "<Figure size 1000x600 with 1 Axes>"
            ],
            "image/png": "[encoded data removed]"
          },
          "metadata": {}
        },
        {
          "output_type": "display_data",
          "data": {
            "text/plain": [
              "<IPython.core.display.Javascript object>"
            ],
            "application/javascript": [
              "\n",
              "    async function download(id, filename, size) {\n",
              "      if (!google.colab.kernel.accessAllowed) {\n",
              "        return;\n",
              "      }\n",
              "      const div = document.createElement('div');\n",
              "      const label = document.createElement('label');\n",
              "      label.textContent = `Downloading \"${filename}\": `;\n",
              "      div.appendChild(label);\n",
              "      const progress = document.createElement('progress');\n",
              "      progress.max = size;\n",
              "      div.appendChild(progress);\n",
              "      document.body.appendChild(div);\n",
              "\n",
              "      const buffers = [];\n",
              "      let downloaded = 0;\n",
              "\n",
              "      const channel = await google.colab.kernel.comms.open(id);\n",
              "      // Send a message to notify the kernel that we're ready.\n",
              "      channel.send({})\n",
              "\n",
              "      for await (const message of channel.messages) {\n",
              "        // Send a message to notify the kernel that we're ready.\n",
              "        channel.send({})\n",
              "        if (message.buffers) {\n",
              "          for (const buffer of message.buffers) {\n",
              "            buffers.push(buffer);\n",
              "            downloaded += buffer.byteLength;\n",
              "            progress.value = downloaded;\n",
              "          }\n",
              "        }\n",
              "      }\n",
              "      const blob = new Blob(buffers, {type: 'application/binary'});\n",
              "      const a = document.createElement('a');\n",
              "      a.href = window.URL.createObjectURL(blob);\n",
              "      a.download = filename;\n",
              "      div.appendChild(a);\n",
              "      a.click();\n",
              "      div.remove();\n",
              "    }\n",
              "  "
            ]
          },
          "metadata": {}
        },
        {
          "output_type": "display_data",
          "data": {
            "text/plain": [
              "<IPython.core.display.Javascript object>"
            ],
            "application/javascript": [
              "download(\"download_52d42a44-40c7-424f-b682-d4e9af71a0dd\", \"Mix_Multi_Cancer_Kidney Cancer_learning_rate.png\", 189663)"
            ]
          },
          "metadata": {}
        },
        {
          "output_type": "display_data",
          "data": {
            "text/plain": [
              "<Figure size 1000x600 with 1 Axes>"
            ],
            "image/png": "[encoded data removed]"
          },
          "metadata": {}
        },
        {
          "output_type": "display_data",
          "data": {
            "text/plain": [
              "<IPython.core.display.Javascript object>"
            ],
            "application/javascript": [
              "\n",
              "    async function download(id, filename, size) {\n",
              "      if (!google.colab.kernel.accessAllowed) {\n",
              "        return;\n",
              "      }\n",
              "      const div = document.createElement('div');\n",
              "      const label = document.createElement('label');\n",
              "      label.textContent = `Downloading \"${filename}\": `;\n",
              "      div.appendChild(label);\n",
              "      const progress = document.createElement('progress');\n",
              "      progress.max = size;\n",
              "      div.appendChild(progress);\n",
              "      document.body.appendChild(div);\n",
              "\n",
              "      const buffers = [];\n",
              "      let downloaded = 0;\n",
              "\n",
              "      const channel = await google.colab.kernel.comms.open(id);\n",
              "      // Send a message to notify the kernel that we're ready.\n",
              "      channel.send({})\n",
              "\n",
              "      for await (const message of channel.messages) {\n",
              "        // Send a message to notify the kernel that we're ready.\n",
              "        channel.send({})\n",
              "        if (message.buffers) {\n",
              "          for (const buffer of message.buffers) {\n",
              "            buffers.push(buffer);\n",
              "            downloaded += buffer.byteLength;\n",
              "            progress.value = downloaded;\n",
              "          }\n",
              "        }\n",
              "      }\n",
              "      const blob = new Blob(buffers, {type: 'application/binary'});\n",
              "      const a = document.createElement('a');\n",
              "      a.href = window.URL.createObjectURL(blob);\n",
              "      a.download = filename;\n",
              "      div.appendChild(a);\n",
              "      a.click();\n",
              "      div.remove();\n",
              "    }\n",
              "  "
            ]
          },
          "metadata": {}
        },
        {
          "output_type": "display_data",
          "data": {
            "text/plain": [
              "<IPython.core.display.Javascript object>"
            ],
            "application/javascript": [
              "download(\"download_bd478fbf-15f0-45b0-8e8a-791dc6c28a8d\", \"Mix_Multi_Cancer_Kidney Cancer_f1-score.png\", 175588)"
            ]
          },
          "metadata": {}
        },
        {
          "output_type": "display_data",
          "data": {
            "text/plain": [
              "<Figure size 1000x600 with 1 Axes>"
            ],
            "image/png": "[encoded data removed]"
          },
          "metadata": {}
        },
        {
          "output_type": "display_data",
          "data": {
            "text/plain": [
              "<IPython.core.display.Javascript object>"
            ],
            "application/javascript": [
              "\n",
              "    async function download(id, filename, size) {\n",
              "      if (!google.colab.kernel.accessAllowed) {\n",
              "        return;\n",
              "      }\n",
              "      const div = document.createElement('div');\n",
              "      const label = document.createElement('label');\n",
              "      label.textContent = `Downloading \"${filename}\": `;\n",
              "      div.appendChild(label);\n",
              "      const progress = document.createElement('progress');\n",
              "      progress.max = size;\n",
              "      div.appendChild(progress);\n",
              "      document.body.appendChild(div);\n",
              "\n",
              "      const buffers = [];\n",
              "      let downloaded = 0;\n",
              "\n",
              "      const channel = await google.colab.kernel.comms.open(id);\n",
              "      // Send a message to notify the kernel that we're ready.\n",
              "      channel.send({})\n",
              "\n",
              "      for await (const message of channel.messages) {\n",
              "        // Send a message to notify the kernel that we're ready.\n",
              "        channel.send({})\n",
              "        if (message.buffers) {\n",
              "          for (const buffer of message.buffers) {\n",
              "            buffers.push(buffer);\n",
              "            downloaded += buffer.byteLength;\n",
              "            progress.value = downloaded;\n",
              "          }\n",
              "        }\n",
              "      }\n",
              "      const blob = new Blob(buffers, {type: 'application/binary'});\n",
              "      const a = document.createElement('a');\n",
              "      a.href = window.URL.createObjectURL(blob);\n",
              "      a.download = filename;\n",
              "      div.appendChild(a);\n",
              "      a.click();\n",
              "      div.remove();\n",
              "    }\n",
              "  "
            ]
          },
          "metadata": {}
        },
        {
          "output_type": "display_data",
          "data": {
            "text/plain": [
              "<IPython.core.display.Javascript object>"
            ],
            "application/javascript": [
              "download(\"download_ed80ae08-522c-4b1b-94c6-6477ad02c08f\", \"Mix_Multi_Cancer_Kidney Cancer_data.json\", 9699)"
            ]
          },
          "metadata": {}
        }
      ]
    }
  ],
  "metadata": {
    "accelerator": "GPU",
    "colab": {
      "gpuType": "T4",
      "provenance": [],
      "toc_visible": true
    },
    "kernelspec": {
      "display_name": "Python 3",
      "name": "python3"
    },
    "language_info": {
      "name": "python"
    }
  },
  "nbformat": 4,
  "nbformat_minor": 0
}